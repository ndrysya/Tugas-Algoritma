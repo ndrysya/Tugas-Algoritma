{
 "cells": [
  {
   "cell_type": "code",
   "execution_count": null,
   "id": "95bebe7d",
   "metadata": {},
   "outputs": [],
   "source": [
    "nama = input (\"Siapakah nama anda?\")\n",
    "kegiatan = input (\"Apakah kegiatan anda sekarang?\")\n",
    "print(\"Semangat\"+\" \" + kegiatan +\" \"+\"yah,\"+ nama+\" \")\n",
    "# print berfungsi untuk medeklarasikan hasil dari parameter dan kalimat yang kita buat.Untuk parameter sendiri,\n",
    "# kita akan mengisi setelah codenya dirun. Dan untuk mendeklarasikan suatu code ingat untuk selalu gunakan tanda petik-kecuali\n",
    "# untuk parameter disebabkan kita akan menginput sendiri saat kodenya berhasil dirun- (ingat tanda petiknya harus sama di awal \n",
    "# maupun di akhir, contohnya jika menggunakan tanda petik satu di awal kalimat, \n",
    "# maka di akhir kalimat juga harus menggunakan tanda petik satu juga) Untuk membuat kalimat, jika ingin membuat spasi \n",
    "# dikalimat tersebut, tambahkan saja spasi diantara kedua tanda petik, contohnya \" \".\n",
    "\n"
   ]
  },
  {
   "cell_type": "code",
   "execution_count": null,
   "id": "87eba0fd",
   "metadata": {},
   "outputs": [],
   "source": [
    "mahasiswa_12=100\n",
    "uang_di_dompet_12=100000\n",
    "print (\"Jadi mahasiswa no urut 12 memiliki\"+\" \"+ mahasiswa_12+\" \"+\"lembar dan berjumlah sebanyak\"+' ' +uang_di_dompet_12)\n",
    "# Kode ini error dikarenakan mahasiswa_12 itu merupakan tipe data int, sedangkan saat saya eksekusi (print) \n",
    "# saya tidak mendeklarasikan mahasiswa_12 itu ke tipe data str. Dikarenakan untuk tipe data int maupun str tidak dapat \n",
    "# dideklarasikan secara bersamaan, kita harus mengubah tipe data int tersebut ke str, agar kodenya dapat dideklarasikan\n",
    "# Contohnya, karena kode diatas seperti mahasiswa_12 merupakan tipe data int, saat saya eksekusi (print) saya\n",
    "# seharusnya menambahkan tipe data str saat saya mendeklarasikan kode tsb, contoh + str (mahasiswa_12) +\n",
    "# Atau bisa juga menambahkan tanda petik, contohnya mahasiswa_12 = \"100\" untuk menandakan bahwa kode tersebut sudah \n",
    "# menjadi tipe data str dan menjadi bisa dideklarasikan. Contoh kode yang benar dengan dua cara dapat dilihat di bawah kode ini."
   ]
  },
  {
   "cell_type": "code",
   "execution_count": null,
   "id": "91944928",
   "metadata": {},
   "outputs": [],
   "source": [
    "mahasiswa_12= 100\n",
    "uang_di_dompet_12=100000\n",
    "print (\"Jadi mahasiswa no urut 12 memiliki\"+\" \"+ str (mahasiswa_12)+\" \"+\"lembar dan berjumlah sebanyak\"+' ' + str (uang_di_dompet_12))"
   ]
  },
  {
   "cell_type": "code",
   "execution_count": null,
   "id": "65883fb4",
   "metadata": {},
   "outputs": [],
   "source": [
    "mahasiswa_12= \"100\"\n",
    "uang_di_dompet_12= \"100000\"\n",
    "print (\"Jadi mahasiswa no urut 12 memiliki\"+\" \"+mahasiswa_12+\" \"+\"lembar dan berjumlah sebanyak\"+' ' + uang_di_dompet_12)"
   ]
  },
  {
   "cell_type": "code",
   "execution_count": 3,
   "id": "a821fe90",
   "metadata": {},
   "outputs": [
    {
     "name": "stdout",
     "output_type": "stream",
     "text": [
      "seberapa banyak lembar duit adalah 10\n",
      "harga 10000\n",
      "Jadi mahasiswa no urut 12 memiliki 10 lembar dan berisi harga 10000 sehingga jumlah duitnya sebanyak 100000\n"
     ]
    }
   ],
   "source": [
    "mahasiswa_12 = input (\"seberapa banyak lembar duit adalah \")\n",
    "uang_di_dompet_12 = input (\"harga \")\n",
    "jumlah = int (mahasiswa_12)*int(uang_di_dompet_12)\n",
    "print (\"Jadi mahasiswa no urut 12 memiliki\"+\" \"+mahasiswa_12+\" \"+\"lembar dan berisi harga\"+' ' +uang_di_dompet_12+\" \"+ \"sehingga jumlah duitnya sebanyak\" +\" \"+ str (jumlah))\n",
    "# Sedangkan untuk contoh kode ini, sama halnya dengan penjelasan diatas. Tetapi kali ini kodenya merupakan parameter dimana\n",
    "# parameter adalah sebuah kode yang dimana akan kita input sendiri isinya saat kode berhasil dideklarasikan. Dengan mahasiswa_12\n",
    "# dan uang_di_dompet_12 yang merupakan parameter dengan hasilnya nanti kita input sendirim, \n",
    "# lalu kedua parameter tersebut dijumlahkan dan dideklarasikan menjadi str saat di print, agar kode tersebut berhasll dideklarasikan\n"
   ]
  },
  {
   "cell_type": "code",
   "execution_count": null,
   "id": "282bf3a8",
   "metadata": {},
   "outputs": [],
   "source": []
  }
 ],
 "metadata": {
  "kernelspec": {
   "display_name": "Python 3 (ipykernel)",
   "language": "python",
   "name": "python3"
  },
  "language_info": {
   "codemirror_mode": {
    "name": "ipython",
    "version": 3
   },
   "file_extension": ".py",
   "mimetype": "text/x-python",
   "name": "python",
   "nbconvert_exporter": "python",
   "pygments_lexer": "ipython3",
   "version": "3.9.13"
  }
 },
 "nbformat": 4,
 "nbformat_minor": 5
}
