{
 "cells": [
  {
   "cell_type": "code",
   "execution_count": 1,
   "id": "21cfe008",
   "metadata": {},
   "outputs": [
    {
     "name": "stdout",
     "output_type": "stream",
     "text": [
      "1\n",
      "2\n",
      "3\n",
      "4\n",
      "5\n"
     ]
    }
   ],
   "source": [
    "#Tugas Algoritma 4  Minggu, 4 April 2023\n",
    "\n",
    "#Latihan while loop 1\n",
    "\n",
    "a=0\n",
    "# Menginisialisasi variabel dengan nilai awal\n",
    "\n",
    "while a<5:\n",
    "    \n",
    "# Melakukan iterasi menggunakan while loop hingga a kurang dari 5\n",
    "    a+=1 # Menambahkan nilai a dengan 1 setiap iterasi\n",
    "    print (str(a))\n",
    "    \n",
    "# Pada contoh di atas, while loop akan melakukan iterasi selama nilai variabel a kurang dari 5. \n",
    "# Setiap iterasi, nilai variabel a akan ditampilkan di layar menggunakan fungsi print(), \n",
    "# kemudian nilai a akan ditambahkan dengan 1 menggunakan operator +=. Setelah nilai a mencapai 5, \n",
    "# while loop akan berhenti dan pesan \"a\" akan ditampilkan di layar.\n"
   ]
  },
  {
   "cell_type": "code",
   "execution_count": 2,
   "id": "864bf4c1",
   "metadata": {},
   "outputs": [
    {
     "name": "stdout",
     "output_type": "stream",
     "text": [
      "**\n",
      "****\n",
      "******\n",
      "********\n",
      "**********\n"
     ]
    }
   ],
   "source": [
    "# Latihan while loop 2\n",
    "\n",
    "# Menginisialisasi variabel dengan nilai awal\n",
    "c = 1\n",
    "stars = \"\"\n",
    "\n",
    "# Melakukan iterasi menggunakan while loop hingga c kurang dari atau sama dengan 10\n",
    "\n",
    "while c <= 10:\n",
    "    stars += \"**\" \n",
    "    c += 2  # Menambahkan nilai c dengan 2 setiap iterasi\n",
    "    print(stars)\n",
    "# Pada contoh di atas, while loop akan melakukan iterasi selama nilai variabel c kurang dari atau sama dengan 10.\n",
    "# Setiap iterasi, variabel stars akan ditambahkan dua bintang (*) menggunakan operator +=, \n",
    "# kemudian nilai variabel stars akan ditampilkan di layar menggunakan fungsi print().  \n",
    "# Dengan cara diatas, kita dapat membuat pola bintang yang terus bertambah setiap barisnya hingga mencapai lima baris."
   ]
  },
  {
   "cell_type": "code",
   "execution_count": 3,
   "id": "60f0c8c0",
   "metadata": {},
   "outputs": [
    {
     "name": "stdout",
     "output_type": "stream",
     "text": [
      "\n",
      "🥱🥱\n",
      "🥱🥱🥱🥱\n",
      "🥱🥱🥱🥱🥱🥱\n",
      "🥱🥱🥱🥱🥱🥱🥱🥱\n",
      "🥱🥱🥱🥱🥱🥱🥱🥱🥱🥱\n",
      "🥱🥱🥱🥱🥱🥱🥱🥱🥱🥱🥱🥱\n",
      "🥱🥱🥱🥱🥱🥱🥱🥱🥱🥱🥱🥱🥱🥱\n",
      "🥱🥱🥱🥱🥱🥱🥱🥱🥱🥱🥱🥱🥱🥱🥱🥱\n",
      "🥱🥱🥱🥱🥱🥱🥱🥱🥱🥱🥱🥱🥱🥱🥱🥱🥱🥱\n"
     ]
    }
   ],
   "source": [
    "# Latihan while loop 3\n",
    "\n",
    "# Menginisialisasi variabel dengan nilai awal\n",
    "a=0 \n",
    "# Melakukan iterasi menggunakan while loop hingga a kurang dari atau sama dengan 10\n",
    "while a<10:\n",
    "    print (a*'🥱🥱')\n",
    "    a+=1 # Menambahkan nilai c dengan 2 setiap iterasi\n",
    "# Pada contoh di atas, while loop akan melakukan iterasi selama nilai variabel a kurang dari 10. \n",
    "# Setiap iterasi, nilai variabel a akan ditampilkan di layar menggunakan fungsi print(), \n",
    "# kemudian nilai a akan ditambahkan dengan 1 menggunakan operator +=. Setelah nilai a mencapai 5, \n",
    "# while loop akan berhenti dan pesan \"a\" akan ditampilkan di layar.\n"
   ]
  },
  {
   "cell_type": "code",
   "execution_count": 4,
   "id": "2b981935",
   "metadata": {},
   "outputs": [
    {
     "name": "stdout",
     "output_type": "stream",
     "text": [
      "Masukkan harga barang: 540000\n",
      "Masukkan harga barang: -1\n",
      "Total harga yang harus dibayar: Rp 486000.0\n"
     ]
    }
   ],
   "source": [
    "# Latihan while loop 4\n",
    "\n",
    "# Menginisialisasi variabel dengan nilai awal\n",
    "total_harga = 0\n",
    "\n",
    "# Melakukan loop terus menerus hingga pengguna memasukkan nilai -1\n",
    "while True:\n",
    "    # Meminta pengguna memasukkan harga barang\n",
    "    harga = float(input(\"Masukkan harga barang: \"))\n",
    "\n",
    "    # Jika pengguna memasukkan -1, maka loop berhenti\n",
    "    if harga == -1:\n",
    "        break\n",
    "\n",
    "    # Menambahkan harga barang ke total harga\n",
    "    total_harga += harga\n",
    "\n",
    "# Mengecek apakah total harga lebih dari Rp 50.000,-\n",
    "if total_harga > 50000:\n",
    "    # Menghitung diskon 10% dari total harga\n",
    "    diskon = total_harga * 0.1\n",
    "\n",
    "    # Mengurangi total harga dengan nilai diskon\n",
    "    total_harga -= diskon\n",
    "\n",
    "# Menampilkan total harga yang harus dibayar\n",
    "print(\"Total harga yang harus dibayar: Rp\", total_harga)\n",
    "\n",
    "# Pada solusi di atas, program menggunakan while loop dengan kondisi True untuk terus menerus meminta pengguna memasukkan \n",
    "# harga barang hingga pengguna memasukkan nilai -1. Setiap kali pengguna memasukkan harga barang, \n",
    "# program akan menambahkan harga barang ke total harga menggunakan operator +=.\n",
    "\n",
    "# Setelah pengguna selesai memasukkan semua harga barang, program akan mengecek apakah total harga lebih dari Rp 50.000,-. \n",
    "# Jika iya, program akan menghitung diskon 10% dari total harga menggunakan operator * dan operator =.\n",
    "# Jika tidak, program tidak akan menghitung diskon 10% dari total harga \n",
    "# Kemudian program akan mengurangi total harga dengan nilai diskon menggunakan operator - dan operator =. \n",
    "# Akhirnya, program akan menampilkan total harga yang harus dibayar menggunakan fungsi print().\n"
   ]
  },
  {
   "cell_type": "code",
   "execution_count": 5,
   "id": "0da3de54",
   "metadata": {},
   "outputs": [
    {
     "name": "stdout",
     "output_type": "stream",
     "text": [
      "monyet\n",
      "kuda\n"
     ]
    }
   ],
   "source": [
    "# Latihan list di python 1\n",
    "\n",
    "# Membuat list\n",
    "nama_hewan =['babi','monyet','kuda']\n",
    "\n",
    "# Mengakses elemen di dalam list menggunakan indeks\n",
    "print (nama_hewan[1])\n",
    "print (nama_hewan[2]) \n",
    " "
   ]
  },
  {
   "cell_type": "code",
   "execution_count": 6,
   "id": "b2d87d71",
   "metadata": {},
   "outputs": [
    {
     "name": "stdout",
     "output_type": "stream",
     "text": [
      "['babi', 'monyet', 'kucing']\n"
     ]
    }
   ],
   "source": [
    "# Latihan list di python 3\n",
    "\n",
    "# Mengubah nilai elemen di dalam list\n",
    "nama_hewan[2]= 'kucing'\n",
    "print (nama_hewan) \n",
    "\n",
    "# Kemudian, kita mengubah nilai elemen kedua  di dalam list dari kuda menjadi kucing. "
   ]
  },
  {
   "cell_type": "code",
   "execution_count": 7,
   "id": "faa58a93",
   "metadata": {},
   "outputs": [
    {
     "name": "stdout",
     "output_type": "stream",
     "text": [
      "['babi', 'monyet', 'kucing', 'ayam']\n"
     ]
    }
   ],
   "source": [
    "# Latihan metoda list 1\n",
    "\n",
    "nama_hewan.append ('ayam')\n",
    "# Setelah itu, kita menampilkan isi list menggunakan fungsi print()\n",
    "print (nama_hewan) \n",
    "\n",
    "# Pada contoh di atas, pertama-tama kita membuat list dengan menulis nama_hewan = [......]. \n",
    "# Kemudian kita menambahkan elemen ke list menggunakan method append(). \n",
    "# Setelah itu, kita menampilkan isi list menggunakan fungsi print()."
   ]
  },
  {
   "cell_type": "code",
   "execution_count": 8,
   "id": "c766e8cb",
   "metadata": {},
   "outputs": [
    {
     "name": "stdout",
     "output_type": "stream",
     "text": [
      "['monyet', 'kucing', 'ayam']\n"
     ]
    }
   ],
   "source": [
    "## Latihan metoda list 2\n",
    "\n",
    "# Menghapus elemen dalam list\n",
    "nama_hewan.remove ('babi')\n",
    "print (nama_hewan) \n",
    "\n",
    "# Terakhir, kita menghapus elemen dari list menggunakan method remove()."
   ]
  },
  {
   "cell_type": "code",
   "execution_count": 9,
   "id": "835eb82e",
   "metadata": {},
   "outputs": [
    {
     "name": "stdout",
     "output_type": "stream",
     "text": [
      "List angka: [1, 2, 3, 4, 5, 6, 7, 8, 9, 10]\n",
      "List angka genap: [2, 4, 6, 8, 10]\n",
      "List angka ganjil: [1, 3, 5, 7, 9]\n",
      "List hasil penjumlahan: [3, 7, 11, 15, 19]\n"
     ]
    }
   ],
   "source": [
    "## Latihan list di python 5\n",
    "\n",
    "# Buat list angka acak dari 1 hingga 10\n",
    "angka = [1, 2, 3, 4, 5, 6, 7, 8, 9, 10]\n",
    "\n",
    "# Buat list kosong untuk menampung angka genap\n",
    "angka_genap = []\n",
    "\n",
    "# Loop melalui setiap angka pada list angka\n",
    "for a in angka:\n",
    "    # Jika angka tersebut genap, tambahkan ke list angka_genap\n",
    "    if a % 2 == 0:\n",
    "        angka_genap.append(a)\n",
    "\n",
    "# Buat list kosong untuk menampung angka ganjil\n",
    "angka_ganjil = []\n",
    "\n",
    "# Loop melalui setiap angka pada list angka\n",
    "for a in angka:\n",
    "    # Jika angka tersebut ganjil, tambahkan ke list angka_ganjil\n",
    "    if a % 2 != 0:\n",
    "        angka_ganjil.append(a)\n",
    "\n",
    "# Buat list kosong untuk menampung hasil penjumlahan antara angka_genap dan angka_ganjil\n",
    "angka_jumlah = []\n",
    "\n",
    "# Loop melalui setiap indeks pada list angka_genap dan angka_ganjil\n",
    "for i in range(len(angka_genap)):\n",
    "    # Tambahkan hasil penjumlahan antara angka_genap dan angka_ganjil pada indeks yang sama ke dalam list angka_jumlah\n",
    "    angka_jumlah.append(angka_genap[i] + angka_ganjil[i])\n",
    "\n",
    "# Cetak hasil akhir\n",
    "print(\"List angka:\", angka)\n",
    "print(\"List angka genap:\", angka_genap)\n",
    "print(\"List angka ganjil:\", angka_ganjil)\n",
    "print(\"List hasil penjumlahan:\", angka_jumlah)\n",
    "\n",
    "# Pada contoh soal di atas, kita membuat list angka yang berisi angka-angka dari 1 hingga 10. \n",
    "# Selanjutnya, kita membuat list kosong angka_genap dan angka_ganjil \n",
    "# untuk menampung angka-angka genap dan ganjil pada list angka,masing-masing.\n",
    "\n",
    "# Kita melakukan loop pada setiap angka pada list angka, dan jika angka tersebut genap, \n",
    "# kita menambahkannya ke list angka_genap, dan jika angka tersebut ganjil, kita menambahkannya ke list angka_ganjil.\n",
    "\n",
    "# Selanjutnya, kita membuat list kosong angka_jumlah untuk menampung hasil penjumlahan \n",
    "# antara angka-angka genap dan ganjil pada list angka_genap dan angka_ganjil. \n",
    "# Kita melakukan loop pada setiap indeks pada list angka_genap dan angka_ganjil, \n",
    "# dan menambahkan hasil penjumlahan pada indeks yang sama ke dalam list angka_jumlah.\n",
    "\n",
    "# Hasil akhir dari program ini adalah mencetak list angka, angka_genap, angka_ganjil, dan angka_jumlah.\n"
   ]
  },
  {
   "cell_type": "code",
   "execution_count": 10,
   "id": "8bae815f",
   "metadata": {},
   "outputs": [
    {
     "name": "stdout",
     "output_type": "stream",
     "text": [
      "A\n",
      "B\n",
      "C\n",
      "D\n",
      "E\n"
     ]
    }
   ],
   "source": [
    "# Latihan for loop 1\n",
    "\n",
    "# Buat list huruf\n",
    "huruf = ['a', 'b', 'c', 'd', 'e']\n",
    "\n",
    "# Loop melalui setiap huruf pada list huruf\n",
    "for h in huruf:\n",
    "    print(h.upper())\n",
    "\n",
    "# Pada contoh soal di atas, kita membuat sebuah list huruf yang berisi lima huruf kecil.\n",
    "\n",
    "# Selanjutnya, kita melakukan loop pada setiap huruf pada list huruf dengan menggunakan for loop. \n",
    "# Pada setiap iterasi, kita mencetak huruf tersebut dengan menggunakan method upper() \n",
    "# yang akan mengubah huruf kecil menjadi huruf besar.\n",
    "\n",
    "# Hasil akhir dari program ini adalah mencetak setiap huruf pada list huruf dalam bentuk huruf besar."
   ]
  },
  {
   "cell_type": "code",
   "execution_count": 11,
   "id": "93e4b025",
   "metadata": {},
   "outputs": [
    {
     "name": "stdout",
     "output_type": "stream",
     "text": [
      "Jumlah perkalian angka: 360\n"
     ]
    }
   ],
   "source": [
    "# Latihan for loop 2\n",
    "\n",
    "# Buat list angka\n",
    "angka = [1, 2, 3, 4, 5]\n",
    "\n",
    "# Hitung perkalian seluruh angka pada list angka\n",
    "kali = 3\n",
    "for a in angka:\n",
    "    kali *= a\n",
    "\n",
    "print(\"Jumlah perkalian angka:\", kali)\n",
    "\n",
    "# Pada contoh soal di atas, kita membuat sebuah list angka yang berisi lima angka.\n",
    "\n",
    "# Selanjutnya, kita menggunakan for loop untuk melakukan iterasi pada setiap angka pada list angka. \n",
    "# Setelah selesai melakukan iterasi pada seluruh angka pada list, kita mencetak hasil kali dari seluruh angka ke variabel kali.\n"
   ]
  },
  {
   "cell_type": "code",
   "execution_count": 12,
   "id": "7d840dee",
   "metadata": {},
   "outputs": [
    {
     "name": "stdout",
     "output_type": "stream",
     "text": [
      "Saya suka Apel\n",
      "Saya suka Jeruk\n",
      "Saya suka Mangga\n",
      "Saya suka Pisang\n",
      "Saya suka Kiwi\n"
     ]
    }
   ],
   "source": [
    "# latihan for loop 3\n",
    "\n",
    "# Buat list buah\n",
    "buah = ['apel', 'jeruk', 'mangga', 'pisang', 'kiwi']\n",
    "\n",
    "# Cetak setiap buah pada list buah dengan format tertentu\n",
    "for b in buah:\n",
    "    print(\"Saya suka\", b.capitalize())\n",
    "\n",
    "# Pada contoh soal di atas, kita membuat sebuah list buah yang berisi lima buah.\n",
    "\n",
    "# Selanjutnya, kita menggunakan for loop untuk melakukan iterasi pada setiap buah pada list buah. \n",
    "# Pada setiap iterasi, kita mencetak kalimat \"Saya suka\" diikuti dengan nama buah dalam huruf kapital \n",
    "# menggunakan method capitalize().\n",
    "\n",
    "# Hasil akhir dari program ini adalah mencetak setiap buah pada list buah dengan format tertentu.\n"
   ]
  },
  {
   "cell_type": "code",
   "execution_count": 13,
   "id": "ee45c12b",
   "metadata": {},
   "outputs": [
    {
     "name": "stdout",
     "output_type": "stream",
     "text": [
      "0\n",
      "1\n",
      "2\n",
      "3\n",
      "4\n",
      "5\n",
      "6\n",
      "7\n",
      "8\n",
      "9\n",
      "2\n",
      "3\n",
      "4\n",
      "5\n",
      "6\n",
      "7\n",
      "8\n",
      "1\n",
      "4\n",
      "7\n",
      "10\n",
      "13\n",
      "16\n",
      "19\n",
      "30\n",
      "28\n",
      "26\n",
      "24\n",
      "22\n",
      "20\n",
      "18\n",
      "16\n",
      "14\n",
      "12\n",
      "10\n",
      "8\n",
      "6\n",
      "4\n",
      "2\n",
      "20\n",
      "19\n",
      "18\n",
      "17\n",
      "16\n",
      "15\n",
      "14\n",
      "13\n",
      "12\n",
      "11\n",
      "10\n",
      "9\n",
      "8\n",
      "7\n",
      "6\n",
      "5\n",
      "4\n",
      "3\n",
      "2\n"
     ]
    }
   ],
   "source": [
    "# Latihan for range 1\n",
    "\n",
    "# Menampilkan urutan bilangan bulat dari 0 hingga 9\n",
    "for i in range(10):\n",
    "    print(i)\n",
    "\n",
    "# Menampilkan urutan bilangan bulat dari 2 hingga 8\n",
    "for i in range(2, 9):\n",
    "    print(i)\n",
    "\n",
    "# Menampilkan urutan bilangan bulat dari 1 hingga 20 dengan loncatan 3\n",
    "for i in range(1, 21, 3):\n",
    "    print(i)\n",
    "    \n",
    "# Menampilkan urutan bilangan bulat dari 20 hingga 1 dengan loncatan 2\n",
    "for i in range (30,1,-2):\n",
    "    print (i)\n",
    "\n",
    "# Menampilkan urutan bilangan bulat dari 20 hingga 1 \n",
    "for i in range (20,1,-1):\n",
    "    print (i)"
   ]
  },
  {
   "cell_type": "code",
   "execution_count": 14,
   "id": "ed9d90bd",
   "metadata": {},
   "outputs": [
    {
     "name": "stdout",
     "output_type": "stream",
     "text": [
      "*\n",
      "**\n",
      "***\n",
      "****\n",
      "*****\n",
      "******\n",
      "*****\n",
      "****\n",
      "***\n",
      "**\n",
      "*\n"
     ]
    }
   ],
   "source": [
    "# Latihan for range 2\n",
    "\n",
    "# Membuat segitiga siku-siku dengan bintang\n",
    "for i in range(1, 6):\n",
    "    for j in range(i): \n",
    "        print(\"*\", end=\"\")\n",
    "    print()\n",
    "\n",
    "# Membuat bintang berbentuk segitiga terbalik\n",
    "for i in range(6, 0, -1):\n",
    "    for j in range(i):\n",
    "        print(\"*\", end=\"\")\n",
    "    print()\n",
    "    \n",
    "# Pada contoh soal di atas, kita menggunakan for loop dengan range untuk membuat pola segitiga siku-siku \n",
    "# dengan bintang dan bintang berbentuk segitiga terbalik. Dalam setiap for loop, kita menggunakan range \n",
    "# dengan argumen yang berbeda-beda untuk menghasilkan urutan bilangan bulat yang digunakan dalam perulangan. \n",
    "# Selain itu, kita juga menggunakan fungsi print() untuk menampilkan bintang-bintang pada setiap baris.\n"
   ]
  }
 ],
 "metadata": {
  "kernelspec": {
   "display_name": "Python 3 (ipykernel)",
   "language": "python",
   "name": "python3"
  },
  "language_info": {
   "codemirror_mode": {
    "name": "ipython",
    "version": 3
   },
   "file_extension": ".py",
   "mimetype": "text/x-python",
   "name": "python",
   "nbconvert_exporter": "python",
   "pygments_lexer": "ipython3",
   "version": "3.9.13"
  }
 },
 "nbformat": 4,
 "nbformat_minor": 5
}
