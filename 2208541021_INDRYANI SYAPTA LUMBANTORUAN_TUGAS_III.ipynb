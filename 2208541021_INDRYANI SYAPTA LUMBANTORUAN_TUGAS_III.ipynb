{
 "cells": [
  {
   "cell_type": "code",
   "execution_count": 1,
   "id": "b53bb84a",
   "metadata": {},
   "outputs": [
    {
     "name": "stdout",
     "output_type": "stream",
     "text": [
      "Indry\n"
     ]
    }
   ],
   "source": [
    "# Tugas Algoritma 3. Senin, 20 Maret 2023\n",
    "\n",
    "#Latihan Strings Index 1\n",
    "\n",
    "Nama = \"Indryani Syapta Lumbantoruan\"\n",
    "print (Nama [0:5])\n",
    "\n",
    "# Kode dibawah berfungsi untuk mencetak tulisan dari urutan huruf di sebuah tulisan dari awal dengan urutan yang kita inginkan \n",
    "# hingga ke urutan huruf akhir yang kita inginkan juga. Dalam kode dibawah ini saya ingin mencetak tulisan dari urutan \n",
    "# 0 hingga ke urutan huruf 5.\n",
    "# -----------------------------------------------------------------------------------------------------------------------------\n",
    "# notes : spasi dihitung dalam urutan hurufnya. Jadi kalau nama ini dihitung mempunyai 28 huruf dimana spasi juga ikut dihitung.\n",
    "# -----------------------------------------------------------------------------------------------------------------------------"
   ]
  },
  {
   "cell_type": "code",
   "execution_count": 2,
   "id": "8253833f",
   "metadata": {},
   "outputs": [
    {
     "name": "stdout",
     "output_type": "stream",
     "text": [
      "Indryani Syapta \n"
     ]
    }
   ],
   "source": [
    "#Latihan Strings Index 2\n",
    "\n",
    "print (Nama [0:-12])\n",
    "\n",
    "# Kenapa di bagian angkanya ditulis minus ? Dikarenakan itu menandakan bahwa waktu mencetak tulisan dengan urutan yang \n",
    "# mempunyai minus, pencetakannya diakhiri dari setelah urutan angka 12 yang dihitung dari belakang. Jadi dalam kode ini yang \n",
    "# dicetak nanti adalah tulisan dari awal atau 0 hingga huruf setelah urutan 12 yang dihitung dari belakang"
   ]
  },
  {
   "cell_type": "code",
   "execution_count": 3,
   "id": "41607144",
   "metadata": {},
   "outputs": [
    {
     "name": "stdout",
     "output_type": "stream",
     "text": [
      "Lu\n"
     ]
    }
   ],
   "source": [
    "# Latihan Strings Index 3\n",
    "\n",
    "print (Nama [16:-10])\n",
    "\n",
    "# Jika dari kode di atas saya biasa menggunakan dari urutan 0, maka kali ini saya mencetak tulisan dari urutan nomor 16 \n",
    "# (yang dihitung dari awal tulisan) hingga ke huruf setelah urutan 10 yang dihitung dari belakang tulisan"
   ]
  },
  {
   "cell_type": "code",
   "execution_count": 4,
   "id": "5918c919",
   "metadata": {},
   "outputs": [
    {
     "name": "stdout",
     "output_type": "stream",
     "text": [
      "Idyn ypaLma\n"
     ]
    }
   ],
   "source": [
    "# Latihan Strings Index 4\n",
    "\n",
    "print (Nama [0:-6:2])\n",
    "# Sedangkan untuk kode ini sendiri, kenapa menampilkan sebanyak 3 angka ? Karena kode ini berfungsi untuk mencetak tulisan \n",
    "# dimana tulisan yang ditampilkan bukan lagi dari urutan awal tulisan hingga ke urutan akhir tulisan yang kita inginkan, \n",
    "# melainkan yang ditampilkan adalah loncatan urutan huruf dari angka terakhir di kode yang dilaksanakan di dalam\n",
    "# urutan huruf angka pertama sampai angka kedua di dalam kode tersebut\n",
    "# ----------------------------------------------------------------------------------------------------------------\n",
    "# Dalam kode ini, saya menginginkan loncatan 2 huruf dari urutan awal atau 0 hingga ke huruf setelah urutan 6 yang \n",
    "# dihitung dari belakang \n",
    "# ----------------------------------------------------------------------------------------------------------------"
   ]
  },
  {
   "cell_type": "code",
   "execution_count": 5,
   "id": "5ef42713",
   "metadata": {},
   "outputs": [
    {
     "name": "stdout",
     "output_type": "stream",
     "text": [
      "Indryani\n",
      "ypaLma\n"
     ]
    }
   ],
   "source": [
    "# Latihan Strings Index 5\n",
    "\n",
    "print (Nama[0:8])\n",
    "print (Nama[10:-6:2])"
   ]
  },
  {
   "cell_type": "code",
   "execution_count": 6,
   "id": "6237d26d",
   "metadata": {},
   "outputs": [
    {
     "name": "stdout",
     "output_type": "stream",
     "text": [
      "25\n"
     ]
    }
   ],
   "source": [
    "# Latihan Strings Methods 1\n",
    "\n",
    "judul = \"Indry adalah manusia baik\"\n",
    "print (len (judul))\n",
    "\n",
    "# Kode ini berfungsi untuk menghitung jumlah huruf yang ada disebuah tulisan, dengan ikut menghitung \n",
    "# spasi yang ada di dalam tulisan tersebut"
   ]
  },
  {
   "cell_type": "code",
   "execution_count": 7,
   "id": "649265b2",
   "metadata": {},
   "outputs": [
    {
     "data": {
      "text/plain": [
       "'INDRY ADALAH MANUSIA BAIK'"
      ]
     },
     "execution_count": 7,
     "metadata": {},
     "output_type": "execute_result"
    }
   ],
   "source": [
    "# Latihan Strings Methods 2\n",
    "\n",
    "judul.upper()\n",
    "\n",
    "# Sedangkan kode ini sendiri berfungsi untuk mengkapitalisasikan sebuah tulisan"
   ]
  },
  {
   "cell_type": "code",
   "execution_count": 8,
   "id": "09b752b3",
   "metadata": {},
   "outputs": [
    {
     "data": {
      "text/plain": [
       "'indry adalah manusia baik'"
      ]
     },
     "execution_count": 8,
     "metadata": {},
     "output_type": "execute_result"
    }
   ],
   "source": [
    "# Latihan Strings Methods 3\n",
    "\n",
    "judul.lower()\n",
    "\n",
    "# Kebalikan dari kode di atas, kode ini berfungsi untuk membuat tulisan menjadi huruf kecil"
   ]
  },
  {
   "cell_type": "code",
   "execution_count": 9,
   "id": "73b03edf",
   "metadata": {},
   "outputs": [
    {
     "name": "stdout",
     "output_type": "stream",
     "text": [
      "False\n"
     ]
    }
   ],
   "source": [
    "# Latihan Strings Methods 4\n",
    "\n",
    "print (\"Tries\" in judul)\n",
    "# Kode ini berfungsi untuk menyatakan benar atau salah kalimat atau kata yang ingin kita cari apakah betul ada di\n",
    "# variabel yang sudah kita defenisikan"
   ]
  },
  {
   "cell_type": "code",
   "execution_count": 10,
   "id": "9bca42cd",
   "metadata": {},
   "outputs": [
    {
     "name": "stdout",
     "output_type": "stream",
     "text": [
      "True\n"
     ]
    }
   ],
   "source": [
    "# Latihan Strings Methods 5\n",
    "\n",
    "print ('adalah' in judul)\n",
    "\n",
    "# Kode ini menghasilkan nilai benar karena kata 'adalah' terdapat di variabel judul yang sudah didefenisikan \n",
    "# yang berisikan 'Indry adalah manusia baik'"
   ]
  },
  {
   "cell_type": "code",
   "execution_count": 11,
   "id": "db247829",
   "metadata": {},
   "outputs": [
    {
     "data": {
      "text/plain": [
       "'Tries adalah manusia baik'"
      ]
     },
     "execution_count": 11,
     "metadata": {},
     "output_type": "execute_result"
    }
   ],
   "source": [
    "# Latihan Strings Methods 6\n",
    "\n",
    "judul.replace (\"Indry\",\"Tries\")\n",
    "\n",
    "# Kode ini berfungsi untuk mengganti kalimat atau variabel yang kita inginkan. Dari contoh kode ini, saya ingin mengganti kata\n",
    "# Indry menjadi Tries"
   ]
  },
  {
   "cell_type": "code",
   "execution_count": 12,
   "id": "1e419bb9",
   "metadata": {},
   "outputs": [
    {
     "data": {
      "text/plain": [
       "'Indry odoloh monusio boik'"
      ]
     },
     "execution_count": 12,
     "metadata": {},
     "output_type": "execute_result"
    }
   ],
   "source": [
    "# Latihan Strings Methods 7\n",
    "\n",
    "judul.replace ('a','o')\n",
    "\n",
    "# Kalau kode di atas, saya ingin mengganti kata, sekarang saya ingin mengganti huruf atau hanya satu variabel saja."
   ]
  },
  {
   "cell_type": "code",
   "execution_count": 13,
   "id": "78e9d2b7",
   "metadata": {},
   "outputs": [
    {
     "ename": "TypeError",
     "evalue": "replace expected at least 2 arguments, got 1",
     "output_type": "error",
     "traceback": [
      "\u001b[1;31m---------------------------------------------------------------------------\u001b[0m",
      "\u001b[1;31mTypeError\u001b[0m                                 Traceback (most recent call last)",
      "\u001b[1;32m~\\AppData\\Local\\Temp\\ipykernel_3768\\2282036184.py\u001b[0m in \u001b[0;36m<module>\u001b[1;34m\u001b[0m\n\u001b[0;32m      2\u001b[0m \u001b[1;33m\u001b[0m\u001b[0m\n\u001b[0;32m      3\u001b[0m \u001b[0mjudul\u001b[0m \u001b[1;33m=\u001b[0m \u001b[1;34m\"dimana\"\u001b[0m\u001b[1;33m\u001b[0m\u001b[1;33m\u001b[0m\u001b[0m\n\u001b[1;32m----> 4\u001b[1;33m \u001b[0mprint\u001b[0m \u001b[1;33m(\u001b[0m\u001b[0mjudul\u001b[0m\u001b[1;33m.\u001b[0m\u001b[0mreplace\u001b[0m \u001b[1;33m(\u001b[0m\u001b[1;34m'a'\u001b[0m\u001b[1;33m)\u001b[0m\u001b[1;33m,\u001b[0m\u001b[1;33m(\u001b[0m\u001b[1;34m' '\u001b[0m\u001b[1;33m)\u001b[0m\u001b[1;33m)\u001b[0m\u001b[1;33m\u001b[0m\u001b[1;33m\u001b[0m\u001b[0m\n\u001b[0m\u001b[0;32m      5\u001b[0m \u001b[1;33m\u001b[0m\u001b[0m\n\u001b[0;32m      6\u001b[0m \u001b[1;31m# Error dikarenakan posisi pengetikannya salah sehingga sistem tidak dapat memahami perintah ('a'),('').\u001b[0m\u001b[1;33m\u001b[0m\u001b[1;33m\u001b[0m\u001b[0m\n",
      "\u001b[1;31mTypeError\u001b[0m: replace expected at least 2 arguments, got 1"
     ]
    }
   ],
   "source": [
    "# Latihan Strings Methods 8\n",
    "\n",
    "judul = \"dimana\"\n",
    "print (judul.replace ('a'),(' '))\n",
    "\n",
    "# Error dikarenakan posisi pengetikannya salah sehingga sistem tidak dapat memahami perintah ('a'),(''). \n",
    "# Sesuai dengan keterangan error di bawah yang diganti atau replace setidaknya memiliki dua argumen, \n",
    "# sedangkan yang di kode hanya satu dikarenakan salah pengetikan sehingga adanya salah paham\n",
    "# Yang benar dapat dilihat dikode di bawah ini"
   ]
  },
  {
   "cell_type": "code",
   "execution_count": null,
   "id": "7d64e18a",
   "metadata": {
    "scrolled": true
   },
   "outputs": [],
   "source": [
    "# Latihan Strings Methods 9\n",
    "\n",
    "judul = \"dimana kamu berada\"\n",
    "print (judul.replace ('a',' '))\n",
    "\n",
    "# Merupakan versi yang benar dari kode di atas"
   ]
  },
  {
   "cell_type": "code",
   "execution_count": null,
   "id": "9b3870e5",
   "metadata": {},
   "outputs": [],
   "source": [
    "# Latihan Strings Methods 10\n",
    "\n",
    "nct = \"Indry\"\n",
    "blackpink = \"adalah manusia baik\"\n",
    "myTable = str.maketrans(\"I\",\"o\")\n",
    "myChair = str.maketrans (\"a\",\"o\")\n",
    "print (nct.translate(myTable))\n",
    "print (blackpink.translate(myChair))\n",
    "\n",
    "# Kode di atas sama fungsinya dengan replace, hanya berbeda sedikit dan lebih complicated. Kode ini disebut dengan translate\n",
    "# dengan membuat fungsi translate yang kita inginkan lalu terapkan kevariabel yang sudah didefenisikan"
   ]
  },
  {
   "cell_type": "code",
   "execution_count": 14,
   "id": "8ea0d4f0",
   "metadata": {},
   "outputs": [
    {
     "name": "stdout",
     "output_type": "stream",
     "text": [
      "15\n"
     ]
    }
   ],
   "source": [
    "# Latihan Operasi Matematika 1\n",
    "\n",
    "x=5\n",
    "x+=10\n",
    "print(x)\n",
    "\n",
    "# Operasi matematika di python seperti pertambahan di atas, saya menggunakan kode augmented operator, sehingga\n",
    "# jika x = 5, maka x+=10 mempunyai arti bahwa x + 10, x yang digunakan adalah x yang kita inginkan"
   ]
  },
  {
   "cell_type": "code",
   "execution_count": 15,
   "id": "eb8f88ee",
   "metadata": {},
   "outputs": [
    {
     "name": "stdout",
     "output_type": "stream",
     "text": [
      "100\n"
     ]
    }
   ],
   "source": [
    "# Latihan Operasi Matematika 2\n",
    "\n",
    "x=10\n",
    "x*=5+5\n",
    "print (x)\n",
    "\n",
    "# Augmented operator juga dapat diterapkan di pengurangan maupun perkalian. Kode ini merupakan kode yang mendeklarasikan \n",
    "# augmented operator yang menyangkut perkalian"
   ]
  },
  {
   "cell_type": "code",
   "execution_count": 16,
   "id": "60e3a468",
   "metadata": {},
   "outputs": [
    {
     "name": "stdout",
     "output_type": "stream",
     "text": [
      "100\n"
     ]
    }
   ],
   "source": [
    "# Latihan Operasi Matematika 3\n",
    "\n",
    "print(10*(5+5))\n",
    "\n",
    "# Sedangkan untuk kode ini saya mencoba sendiri, apakah python mengenali bahwa tanda kurung dalam operasi matematika \n",
    "# mengharuskan apapun operasi matematika di dalamnya, menjadi prioritas untuk dikerjakan. Hasilnya python mengenali\n",
    "# tanda kurung tersebut. Sehingga hasilnya benar sesuai dengan kaidah matematika"
   ]
  },
  {
   "cell_type": "code",
   "execution_count": 17,
   "id": "f1b7d10b",
   "metadata": {},
   "outputs": [
    {
     "name": "stdout",
     "output_type": "stream",
     "text": [
      "Di suatu desa, hiduplah seorang rentenir bersama Ni Komang Ariasih, yang memberi bunga sebesar 50% yang sangat\n",
      "merugikan penduduk desa. Contohnya adalah penduduk yang bernama Atmaja. Rentenir tersebut meminjamkan duit\n",
      "sebesar Rp1.258.000,00 rupiah dan total atmaja mengembalikan duit bisa dilihat diperhitungan di bawah ini\n",
      "\n",
      "% Bunga = 50%\n",
      "Pinjaman = Rp 1,258,000.0\n",
      "\n",
      "Hasil = Rp1,887,000.0\n",
      "Dimana pinjaman dengan bunga sebesar itu sangat memberatkan para peminjam duit dari rentenir itu\n",
      "tetapi apa hendak dikata, Ari merupakan satu-satunya rentenir yang dapat membantu mereka di saat kesusahan\n"
     ]
    }
   ],
   "source": [
    "# Latihan Operasi Matematika 4\n",
    "\n",
    "print (f\"Di suatu desa, hiduplah seorang rentenir bersama Ni Komang Ariasih, yang memberi bunga sebesar 50% yang sangat\\nmerugikan penduduk desa. Contohnya adalah penduduk yang bernama Atmaja. Rentenir tersebut meminjamkan duit\\nsebesar Rp1.258.000,00 rupiah dan total atmaja mengembalikan duit bisa dilihat diperhitungan di bawah ini\\n\")\n",
    "print (f\"% Bunga = 50%\")\n",
    "print (f\"Pinjaman = Rp {float(1258000):,}\\n\")\n",
    "bunga =(50/100)*1258000\n",
    "pinjaman =1258000\n",
    "hasil = float (bunga) + float (pinjaman)\n",
    "print (f\"Hasil = Rp{float(hasil):,}\") \n",
    "print (\"Dimana pinjaman dengan bunga sebesar itu sangat memberatkan para peminjam duit dari rentenir itu\\ntetapi apa hendak dikata, Ari merupakan satu-satunya rentenir yang dapat membantu mereka di saat kesusahan\")\n",
    "\n",
    "# Di kode ini saya memadukan beberapa perintah di bahasa pemograman python. Contohnya mengubah type data, \n",
    "# menggunakan formatted string, operasi matematika, dan menggunakan sintaks \":,\" dengan memanfaatkan formatted string\n",
    "# dan juga menggunakan karakter yang dimulai dengan backslash\n",
    "\n",
    "# ----------------------------------------------------------------------------------------------------------\n",
    "# notes :  Sintaks ':,' berfungsi untuk meletakkan tanda ',' diangka yang kita inginkan agar tersusun rapi \n",
    "# dan hanya dapat digunakan ketika kita menggunakan formatted string. Tidak dapat berlaku jika hanya menggu-\n",
    "# -nakan perintah print biasa\n",
    "# ----------------------------------------------------------------------------------------------------------\n",
    "\n",
    "# ----------------------------------------------------------------------------------------------------------\n",
    "# notes 2 : Menggunakan karakter yang dimulai dengan backslash yaitu \"\\n\" untuk memindahkan baris ke bawah\n",
    "# ----------------------------------------------------------------------------------------------------------"
   ]
  },
  {
   "cell_type": "code",
   "execution_count": 18,
   "id": "b50c2ab9",
   "metadata": {},
   "outputs": [
    {
     "name": "stdout",
     "output_type": "stream",
     "text": [
      "True\n"
     ]
    }
   ],
   "source": [
    "# Latihan Operator Perbandingan 1\n",
    "\n",
    "x = 7<8\n",
    "print (x)\n",
    "\n",
    "# Dimana operator perbandingan, merupakan perintah yang menghasilkan jawaban benar atau salah atas perbandingan yang kita buat\n",
    "# Di kode ini sendiri, saya menggunakan bentuk < yang mempunyai arti kurang dari"
   ]
  },
  {
   "cell_type": "code",
   "execution_count": 19,
   "id": "1743e477",
   "metadata": {},
   "outputs": [
    {
     "name": "stdout",
     "output_type": "stream",
     "text": [
      "True\n",
      "False\n"
     ]
    }
   ],
   "source": [
    "# Latihan Operator Perbandingan 2\n",
    "\n",
    "x = 8<=8\n",
    "print (x)\n",
    "\n",
    "# Kenapa kode ini menghasilkan True ? Dikarenakan 8<=8 memang benar, karena 8 masih kurang dari \n",
    "# ataupun sama dengan angka 8. Sehingga kode tersebut bersifat True. Sedangkan jika kode ini \n",
    "# hanya menggunakan tanda kurang dari, maka kode akan bersifat false. Contoh dapat dilihat di bawah\n",
    "\n",
    "x= 8<8\n",
    "print (x)\n",
    "\n",
    "# Kode bersifat False"
   ]
  },
  {
   "cell_type": "code",
   "execution_count": 20,
   "id": "f858f7ce",
   "metadata": {},
   "outputs": [
    {
     "name": "stdout",
     "output_type": "stream",
     "text": [
      "True\n"
     ]
    }
   ],
   "source": [
    "# Latihan Operator Perbandingan 3\n",
    "\n",
    "a = 2+5\n",
    "b = 6+10\n",
    "y = a<=b\n",
    "print (y)\n",
    "\n",
    "# Dalam latihan operator perbandingan kali ini, saya mencoba padukan dengan operasi matematika dan \n",
    "# ternyata dapat dideklarasikan jika sebelumnya kita sudah mendefenisikan variabel ke operasi matematika\n",
    "# untuk kita coba bandingkan dan dapatkan nilai kebenarannya "
   ]
  },
  {
   "cell_type": "code",
   "execution_count": 21,
   "id": "afe643bc",
   "metadata": {},
   "outputs": [
    {
     "name": "stdout",
     "output_type": "stream",
     "text": [
      "False\n",
      "True\n"
     ]
    }
   ],
   "source": [
    "# Latihan Operator Logika 1\n",
    "\n",
    "jumlah_indomie = 6\n",
    "jumlah_susu = 10\n",
    "print (jumlah_indomie > 8 and jumlah_susu <30)\n",
    "\n",
    "# Perintah 'and' pada operator logika akan menghasilkan nilai True, jika kedua argumen bernilai benar. \n",
    "# Jika salah satu argumen bernilai salah maka, kode akan menghasilkan nilai False atau salah.\n",
    "# Perintah and yang bernilai benar dapat dilihat dibawah\n",
    "\n",
    "jumlah_indomie = 6\n",
    "jumlah_susu = 10\n",
    "print (jumlah_indomie > 3 and jumlah_susu <30)"
   ]
  },
  {
   "cell_type": "code",
   "execution_count": 22,
   "id": "0e16f8ee",
   "metadata": {},
   "outputs": [
    {
     "name": "stdout",
     "output_type": "stream",
     "text": [
      "True\n",
      "True\n"
     ]
    }
   ],
   "source": [
    "# Latihan Operator Logika 2\n",
    "\n",
    "jumlah_indomie = 6\n",
    "jumlah_susu = 10\n",
    "print (jumlah_indomie > 8 or jumlah_susu <30)\n",
    "\n",
    "# Perintah 'or' pada operator logika akan menghasilkan nilai True, jika salah satu argumen bernilai benar.\n",
    "# Apakah perintah \"or\" akan bernilai benar juga jika kedua argumennya bernilai benar ? Jawaban dapat dilihat di kode bawah\n",
    "\n",
    "jumlah_indomie = 6\n",
    "jumlah_susu = 10\n",
    "print (jumlah_indomie > 5 or jumlah_susu <30)\n",
    "\n",
    "# Ternyata perintah \"or\" bernilai True walaupun nilai kedua argumen merupakan benar. Jadi \"or\" akan menghasilkan nilai True\n",
    "# jika salah satu argumen maupun kedua argumen bernilai benar dan akan menghasilkan nilai False jika kedua argumen bernilai salah\n"
   ]
  },
  {
   "cell_type": "code",
   "execution_count": 23,
   "id": "a9b55228",
   "metadata": {},
   "outputs": [
    {
     "name": "stdout",
     "output_type": "stream",
     "text": [
      "False\n"
     ]
    }
   ],
   "source": [
    "# Latihan Operator Logika 3\n",
    "\n",
    "jumlah_indomie = 6\n",
    "jumlah_susu = 10\n",
    "print (not (jumlah_indomie > 5 or jumlah_susu <30))\n",
    "\n",
    "# Perintah 'not' pada operator logika akan menghasilkan nilai yang berlawanan dengan hasil nilai kedua argumen"
   ]
  },
  {
   "cell_type": "code",
   "execution_count": 24,
   "id": "4c427156",
   "metadata": {},
   "outputs": [
    {
     "name": "stdout",
     "output_type": "stream",
     "text": [
      "Cara Menghitung Indeks Massa Tubuh\n",
      "Indeks Massa Tubuh (IMT) = Berat Badan (kg) : Tinggi Badan (m)\n",
      "Berat Badan (kg) = 57\n",
      "Tinggi Badan (m) = 1.58\n",
      "Jadi Indeks Massa Tubuh saya adalah = 36.08\n",
      "Untuk Populasi Asia, pengelompokan IMT anda akan menghasilkan hasil di bawah ini\n",
      "Anda termasuk golongan Obesitas\n"
     ]
    }
   ],
   "source": [
    "# Latihan Operator If 1\n",
    "\n",
    "print (f\"Cara Menghitung Indeks Massa Tubuh\\nIndeks Massa Tubuh (IMT) = Berat Badan (kg) : Tinggi Badan (m)\")\n",
    "Berat_Badan = int (input(\"Berat Badan (kg) = \"))\n",
    "Tinggi_Badan = float (input(\"Tinggi Badan (m) = \"))\n",
    "Indeks_Massa_Tubuh = (float(Berat_Badan/Tinggi_Badan))\n",
    "print (f\"Jadi Indeks Massa Tubuh saya adalah = {Indeks_Massa_Tubuh:.2f}\")\n",
    "\n",
    "print(f\"Untuk Populasi Asia, pengelompokan IMT anda akan menghasilkan hasil di bawah ini\")\n",
    "\n",
    "if Indeks_Massa_Tubuh >= 25:\n",
    "    print (\"Anda termasuk golongan Obesitas\")\n",
    "if Indeks_Massa_Tubuh <25 and Indeks_Massa_Tubuh >= 23:\n",
    "    print (\"Anda termasuk memiliki berat berlebih\")\n",
    "if Indeks_Massa_Tubuh <23 and Indeks_Massa_Tubuh >= 19:\n",
    "    print (\"Anda termasuk memiliki berat badan normal\")\n",
    "if Indeks_Massa_Tubuh <19:\n",
    "    print (\"Anda termasuk memiliki berat badan di bawah normal\")\n",
    "    \n",
    "# Untuk latihan operator if, saya menggunakan case indeks massa tubuh. \n",
    "# Dikode ini saya menggunakan berbagai perintah di pemograman pyhton,\n",
    "# contohnya formatted string, print, type data, dan sintaks :.2f\n",
    "\n",
    "# ---------------------------------------------------------------------\n",
    "# notes 1 : sintaks :.2f berfungsi untuk mengubah bilangan desimal yang \n",
    "# diinput menjadi bilangan desimal dua angka di belakang koma\n",
    "# ---------------------------------------------------------------------"
   ]
  },
  {
   "cell_type": "code",
   "execution_count": null,
   "id": "896c722a",
   "metadata": {},
   "outputs": [],
   "source": []
  }
 ],
 "metadata": {
  "kernelspec": {
   "display_name": "Python 3 (ipykernel)",
   "language": "python",
   "name": "python3"
  },
  "language_info": {
   "codemirror_mode": {
    "name": "ipython",
    "version": 3
   },
   "file_extension": ".py",
   "mimetype": "text/x-python",
   "name": "python",
   "nbconvert_exporter": "python",
   "pygments_lexer": "ipython3",
   "version": "3.9.13"
  }
 },
 "nbformat": 4,
 "nbformat_minor": 5
}
