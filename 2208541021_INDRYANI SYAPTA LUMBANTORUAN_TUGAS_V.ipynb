{
 "cells": [
  {
   "cell_type": "code",
   "execution_count": 1,
   "id": "9fe53f85",
   "metadata": {},
   "outputs": [
    {
     "name": "stdout",
     "output_type": "stream",
     "text": [
      "[[0, 0, 0], [0, 0, 0], [0, 0, 0]]\n",
      "[[0, 1, 6, 3], [6, 0, 3, 0]]\n"
     ]
    }
   ],
   "source": [
    "# Tugas Algoritma 5, Senin, 3 April 2023\n",
    "\n",
    "# Latihan List 2 Dimensi 1 \n",
    "\n",
    "# membuat matriks 3x3 dengan nilai awal 0\n",
    "matriks = [[0 for j in range(3)] for i in range(3)]\n",
    "print(matriks)\n",
    "\n",
    "# membuat matriks 2x4 dengan nilai acak\n",
    "import random\n",
    "matriks = [[random.randint(0,9) for j in range(4)] for i in range(2)]\n",
    "print(matriks)\n",
    "\n",
    "# random.randint(a, b) adalah sebuah fungsi dalam modul random pada Python\n",
    "# yang menghasilkan bilangan bulat acak di antara a dan b termasuk kedua batas tersebut. \n",
    "# Fungsi ini memerlukan dua parameter, yaitu a dan b, yang merupakan batas bawah dan batas \n",
    "# atas dari rentang bilangan bulat acak yang ingin dihasilkan.\n",
    "\n"
   ]
  },
  {
   "cell_type": "code",
   "execution_count": 2,
   "id": "f1e5139f",
   "metadata": {},
   "outputs": [
    {
     "name": "stdout",
     "output_type": "stream",
     "text": [
      "[[1, 2, 3, 4], [2, 4, 6, 8], [3, 9, 27, 81], [1, 3, 5, 7]]\n"
     ]
    }
   ],
   "source": [
    "# Latihan List 2 Dimensi 2\n",
    "\n",
    "matrik = [ [1,2,3,4],[2,4,6,8],[3,9,27,81],[1,3,5,7]]\n",
    "print (matrik)\n",
    "\n",
    "# Menempatkan sebuah list di dalam list dalam penempatan berbentuk matriks\n",
    "# Jika dari contoh di atas, kita menulis fungsi untuk membuat list di matrik, dengan skalar yang sama, atau skalar yang\n",
    "# random dengan fungsi random.randint (a,b). Jika di kode yang ini, kita menuliskan skalar secara langsung tanpa perlu \n",
    "# menuliskan kode untuk menampilkan skalar dari matrik tersebut."
   ]
  },
  {
   "cell_type": "code",
   "execution_count": 3,
   "id": "b6b6975f",
   "metadata": {},
   "outputs": [
    {
     "data": {
      "text/plain": [
       "[1, 2, 3, 4]"
      ]
     },
     "execution_count": 3,
     "metadata": {},
     "output_type": "execute_result"
    }
   ],
   "source": [
    "# Latihan List 2 Dimensi 3\n",
    "\n",
    "# Mengakses elemen matrik\n",
    "matrik [0]\n",
    "\n",
    "# Mengakses elemen matrik di baris 0\n",
    "# Bisa mengakses elemen matrik dengan menggunakan indeks. Indeks dimulai dari 0my_tuple = (1, 2, 3, 'a', 'b', 'c')\n"
   ]
  },
  {
   "cell_type": "code",
   "execution_count": 4,
   "id": "4191faf5",
   "metadata": {},
   "outputs": [
    {
     "data": {
      "text/plain": [
       "1"
      ]
     },
     "execution_count": 4,
     "metadata": {},
     "output_type": "execute_result"
    }
   ],
   "source": [
    "# Latihan List 2 Dimensi 4\n",
    "\n",
    "# Mengakses elemen matrik\n",
    "\n",
    "matrik [3][0]\n",
    "\n",
    "# Jika terdapat dua kurung siku seperti kode ini, maka kurung siku pertama mendeklarasikan baris dan kurung siku kedua\n",
    "# mendeklarasikan kolom pada matriks\n",
    "# Mengakses elemen di baris 3 dan kolom 0"
   ]
  },
  {
   "cell_type": "code",
   "execution_count": 5,
   "id": "e3b168ab",
   "metadata": {},
   "outputs": [
    {
     "name": "stdout",
     "output_type": "stream",
     "text": [
      "[[10, 2, 3], [4, 5, 6], [7, 8, 9]]\n",
      "[[2, 3, 4], [5, 6, 7], [8, 9, 10]]\n"
     ]
    }
   ],
   "source": [
    "# Latihan List 2 Dimensi 5\n",
    "\n",
    "# Mengubah elemen matriks\n",
    "matriks = [[1,2,3],[4,5,6],[7,8,9]]\n",
    "matriks[0][0] = 10 # mengubah elemen di baris 0 dan kolom 0 menjadi 10\n",
    "print(matriks)\n",
    "\n",
    "# Menambahkan nilai di setiap elemen matriks\n",
    "matriks = [[1,2,3],[4,5,6],[7,8,9]]\n",
    "for i in range(len(matriks)):\n",
    "    for j in range(len(matriks[i])):\n",
    "        matriks[i][j] += 1\n",
    "print(matriks)\n"
   ]
  },
  {
   "cell_type": "code",
   "execution_count": 6,
   "id": "67e410de",
   "metadata": {},
   "outputs": [
    {
     "name": "stdout",
     "output_type": "stream",
     "text": [
      "[1, 2, 3, 4]\n",
      "1\n",
      "2\n",
      "3\n",
      "4\n",
      "[2, 4, 6, 8]\n",
      "2\n",
      "4\n",
      "6\n",
      "8\n",
      "[3, 9, 27, 81]\n",
      "3\n",
      "9\n",
      "27\n",
      "81\n",
      "[1, 3, 5, 7]\n",
      "1\n",
      "3\n",
      "5\n",
      "7\n",
      " \n",
      "[1, 2, 3, 4]\n",
      "[2, 4, 6, 8]\n",
      "[3, 9, 27, 81]\n",
      "[1, 3, 5, 7]\n"
     ]
    }
   ],
   "source": [
    "# Latihan list 2 Dimensi 6\n",
    "for baris in matrik :\n",
    "    print (baris)\n",
    "    for kolom in baris :\n",
    "        print (kolom)\n",
    "        \n",
    "# Kode ini berfungsi untuk memanggil list di matrik, dengan memanggil baris di matrik, dan memanggil kolom di bagian baris\n",
    "print (\" \")\n",
    "\n",
    "for kolom in matrik :\n",
    "    print (kolom) \n",
    "# Kode ini berfungsi untuk memanggil list di matrik, dengan memanggil kolom dalam matriknya."
   ]
  },
  {
   "cell_type": "code",
   "execution_count": 7,
   "id": "6ed67339",
   "metadata": {},
   "outputs": [
    {
     "name": "stdout",
     "output_type": "stream",
     "text": [
      "()\n",
      "(1, 2, 3, 'a', 'b', 'c')\n"
     ]
    }
   ],
   "source": [
    "# Latihan Tuples 1\n",
    "\n",
    "# Membuat Tuple\n",
    "\n",
    "# tuple kosong\n",
    "my_tuple = ()\n",
    "print (my_tuple)\n",
    "\n",
    "# tuple dengan beberapa elemen\n",
    "my_tuple = (1, 2, 3, 'a', 'b', 'c')\n",
    "print (my_tuple)\n",
    "\n",
    "# Tuple dapat dibuat dengan cara yang mirip dengan list, namun menggunakan tanda kurung () sebagai penanda. \n",
    "# Berikut adalah contoh pembuatan tuple kosong dan tuple dengan beberapa elemen"
   ]
  },
  {
   "cell_type": "code",
   "execution_count": 8,
   "id": "506a56b5",
   "metadata": {},
   "outputs": [
    {
     "name": "stdout",
     "output_type": "stream",
     "text": [
      "1\n",
      "a\n"
     ]
    }
   ],
   "source": [
    "# Latihan Tuples 2\n",
    "\n",
    "# Mengakses elemen tuple\n",
    "\n",
    "print(my_tuple[0]) # output: 1\n",
    "print(my_tuple[3]) # output: 'a'\n",
    "\n",
    "# Mengakses elemen tuple dengan menggunakan indeks, seperti halnya pada list. \n",
    "# Indeks pada tuple dimulai dari 0. Berikut adalah contoh pengaksesan elemen tuple"
   ]
  },
  {
   "cell_type": "code",
   "execution_count": 9,
   "id": "cdf006f0",
   "metadata": {},
   "outputs": [
    {
     "name": "stdout",
     "output_type": "stream",
     "text": [
      "3.0\n"
     ]
    }
   ],
   "source": [
    "# Latihan Tuples 3\n",
    "\n",
    "# Tuple sebagai argumen fungsi\n",
    "\n",
    "def hitung_rata(*angka):\n",
    "    total = sum(angka)\n",
    "    rata = total / len(angka)\n",
    "    return rata\n",
    "\n",
    "# contoh pemanggilan fungsi\n",
    "rata = hitung_rata(1, 2, 3, 4, 5)\n",
    "print(rata) # output: 3.0\n",
    "\n",
    "# Pada contoh di atas, kita menggunakan *angka untuk menerima argumen yang bersifat tuple. \n",
    "# Dalam fungsi, kita bisa melakukan operasi pada elemen tuple seperti halnya pada list.\n"
   ]
  },
  {
   "cell_type": "code",
   "execution_count": 10,
   "id": "e69d652d",
   "metadata": {},
   "outputs": [
    {
     "name": "stdout",
     "output_type": "stream",
     "text": [
      "1\n",
      "2\n",
      "3\n"
     ]
    }
   ],
   "source": [
    "# Latihan Tuple 4\n",
    "\n",
    "# Tuple Unpacking\n",
    "\n",
    "my_tuple = (1, 2, 3)\n",
    "\n",
    "# tuple unpacking\n",
    "a, b, c = my_tuple\n",
    "\n",
    "print(a) # output: 1\n",
    "print(b) # output: 2\n",
    "print(c) # output: 3\n",
    "\n",
    "# Teknik untuk mengambil elemen tuple dan menyimpannya ke dalam beberapa variabel. \n",
    "# Misalnya, kita punya tuple dengan 3 elemen dan kita ingin menyimpannya ke dalam 3 variabel terpisah"
   ]
  },
  {
   "cell_type": "code",
   "execution_count": 11,
   "id": "c2ca7829",
   "metadata": {},
   "outputs": [
    {
     "name": "stdout",
     "output_type": "stream",
     "text": [
      "(15, 5, 50, 2.0)\n"
     ]
    }
   ],
   "source": [
    "# Latihan tuple 5\n",
    "\n",
    "# Tuple sebagai return value fungsi\n",
    "\n",
    "def hitung(a, b):\n",
    "    tambah = a + b\n",
    "    kurang = a - b\n",
    "    kali = a * b\n",
    "    bagi = a / b\n",
    "    return tambah, kurang, kali, bagi\n",
    "\n",
    "# contoh pemanggilan fungsi\n",
    "hasil = hitung(10, 5)\n",
    "print(hasil) # output: (15, 5, 50, 2.0)\n",
    "\n",
    "# Pada contoh di atas, fungsi hitung mengembalikan tuple dengan 4 elemen. \n",
    "# Kita bisa menyimpan return value tersebut ke dalam sebuah variabel, atau menggunakan tuple unpacking \n",
    "# untuk menyimpannya ke dalam beberapa variabel terpisah\n"
   ]
  },
  {
   "cell_type": "code",
   "execution_count": 12,
   "id": "02182931",
   "metadata": {},
   "outputs": [
    {
     "name": "stdout",
     "output_type": "stream",
     "text": [
      "{}\n",
      "{'nama': 'Andi', 'usia': 25, 'alamat': 'Jakarta'}\n"
     ]
    }
   ],
   "source": [
    "# Latihan dictionaris 1\n",
    "\n",
    "# Membuat dictionary\n",
    "\n",
    "# dictionary kosong\n",
    "my_dict = {}\n",
    "print (my_dict)\n",
    "\n",
    "# dictionary dengan beberapa pasangan key-value\n",
    "my_dict = {'nama': 'Andi', 'usia': 25, 'alamat': 'Jakarta'}\n",
    "print (my_dict)\n",
    "\n",
    "# Dictionary dapat dibuat dengan menggunakan tanda kurung kurawal {} dan memasukkan pasangan key-value di dalamnya. \n",
    "# Di atas adalah contoh pembuatan dictionary kosong dan dictionary dengan beberapa pasangan key-value\n"
   ]
  },
  {
   "cell_type": "code",
   "execution_count": 13,
   "id": "dcdd7649",
   "metadata": {},
   "outputs": [
    {
     "name": "stdout",
     "output_type": "stream",
     "text": [
      "Andi\n",
      "25\n"
     ]
    }
   ],
   "source": [
    "# Latihan dictionaris 2\n",
    "\n",
    "# Mengakses value pada dictionary\n",
    "\n",
    "my_dict = {'nama': 'Andi', 'usia': 25, 'alamat': 'Jakarta'}\n",
    "\n",
    "print(my_dict['nama']) # output: 'Andi'\n",
    "print(my_dict['usia']) # output: 25\n",
    "\n",
    "# Kita bisa mengakses value pada dictionary dengan menggunakan key-nya. \n",
    "# Di atas adalah contoh pengaksesan value pada dictionary\n"
   ]
  },
  {
   "cell_type": "code",
   "execution_count": 14,
   "id": "dea7867c",
   "metadata": {},
   "outputs": [
    {
     "name": "stdout",
     "output_type": "stream",
     "text": [
      "{'nama': 'Andi', 'usia': 25, 'alamat': 'Jakarta', 'pekerjaan': 'Programmer'}\n"
     ]
    }
   ],
   "source": [
    "# Latihan dictionaris 3\n",
    "\n",
    "# Menambahkan pasangan key-value pada dictionary\n",
    "\n",
    "my_dict = {'nama': 'Andi', 'usia': 25, 'alamat': 'Jakarta'}\n",
    "my_dict['pekerjaan'] = 'Programmer'\n",
    "print(my_dict) # output: {'nama': 'Andi', 'usia': 25, 'alamat': 'Jakarta', 'pekerjaan': 'Programmer'}\n",
    "\n",
    "# Kita bisa menambahkan pasangan key-value baru pada dictionary dengan menggunakan sintaks dictionary[key] = value. \n",
    "# Di atas adalah contoh penambahan pasangan key-value pada dictionary"
   ]
  },
  {
   "cell_type": "code",
   "execution_count": 15,
   "id": "524ed256",
   "metadata": {},
   "outputs": [
    {
     "name": "stdout",
     "output_type": "stream",
     "text": [
      "{'nama': 'Andi', 'usia': 26, 'alamat': 'Jakarta'}\n"
     ]
    }
   ],
   "source": [
    "# Latihan dictionaris 4\n",
    "\n",
    "# Mengubah value pada dictionary\n",
    "\n",
    "my_dict = {'nama': 'Andi', 'usia': 25, 'alamat': 'Jakarta'}\n",
    "my_dict['usia'] = 26\n",
    "print(my_dict) # output: {'nama': 'Andi', 'usia': 26, 'alamat': 'Jakarta'}\n",
    "\n",
    "# Kita bisa mengubah value pada dictionary dengan cara yang sama seperti menambahkan pasangan key-value,\n",
    "# yaitu dengan menggunakan sintaks dictionary[key] = value. \n",
    "# Di atas adalah contoh pengubahan value pada dictionary"
   ]
  },
  {
   "cell_type": "code",
   "execution_count": 16,
   "id": "1f7437fb",
   "metadata": {},
   "outputs": [
    {
     "name": "stdout",
     "output_type": "stream",
     "text": [
      "{'nama': 'Andi', 'usia': 25}\n"
     ]
    }
   ],
   "source": [
    "# Latihan dictionaris 5 \n",
    "\n",
    "# Menghapus pasangan key-value pada dictionary\n",
    "\n",
    "my_dict = {'nama': 'Andi', 'usia': 25, 'alamat': 'Jakarta'}\n",
    "del my_dict['alamat']\n",
    "print(my_dict) # output: {'nama': 'Andi', 'usia': 25}\n",
    "\n",
    "# Kita bisa menghapus pasangan key-value pada dictionary dengan menggunakan sintaks del dictionary[key]. \n",
    "# Di atas adalah contoh penghapusan pasangan key-value pada dictionary"
   ]
  },
  {
   "cell_type": "code",
   "execution_count": 17,
   "id": "381a9f74",
   "metadata": {},
   "outputs": [
    {
     "name": "stdout",
     "output_type": "stream",
     "text": [
      "nama Andi\n",
      "usia 25\n",
      "alamat Jakarta\n"
     ]
    }
   ],
   "source": [
    "# Latihan dictionaris 6\n",
    "\n",
    "# Looping pada dictionary\n",
    "\n",
    "my_dict = {'nama': 'Andi', 'usia': 25, 'alamat': 'Jakarta'}\n",
    "for key in my_dict:\n",
    "    value = my_dict[key]\n",
    "    print(key, value)\n",
    "\n",
    "# output:\n",
    "# nama Andi\n",
    "# usia 25\n",
    "# alamat Jakarta\n",
    "\n",
    "# Kita bisa melakukan looping pada dictionary untuk mengakses semua pasangan key-value yang ada di dalamnya. \n",
    "# Di atas adalah contoh looping pada dictionary\n"
   ]
  },
  {
   "cell_type": "code",
   "execution_count": 18,
   "id": "7184313d",
   "metadata": {},
   "outputs": [
    {
     "name": "stdout",
     "output_type": "stream",
     "text": [
      "12\n"
     ]
    }
   ],
   "source": [
    "# Latihan fungsi dalam python 1 \n",
    "\n",
    "# Membuat fungsi\n",
    "\n",
    "def tambah(angka1, angka2):\n",
    "    hasil = angka1 + angka2\n",
    "    return hasil\n",
    "hasil = tambah (5,7)\n",
    "print (hasil)\n",
    "\n",
    "# Untuk membuat fungsi, kita menggunakan kata kunci def diikuti dengan nama fungsi, tanda kurung, dan titik dua. \n",
    "# Isi dari fungsi ditulis di dalam blok kode yang diberi indentasi. \n",
    "# Berikut adalah contoh pembuatan fungsi yang menerima dua argumen dan mengembalikan hasil penjumlahan kedua argumen\n",
    "\n",
    "# Setelah fungsi dibuat, kita bisa memanggilnya di bagian lain dari program dengan menuliskan \n",
    "# nama fungsi diikuti dengan tanda kurung dan argumen yang diperlukan"
   ]
  },
  {
   "cell_type": "code",
   "execution_count": 19,
   "id": "e3320b2f",
   "metadata": {},
   "outputs": [
    {
     "name": "stdout",
     "output_type": "stream",
     "text": [
      "Halo, selamat datang!\n"
     ]
    }
   ],
   "source": [
    "# Latihan fungsi dalam python 2\n",
    "\n",
    "# Fungsi tanpa argumen\n",
    "\n",
    "def halo():\n",
    "    print(\"Halo, selamat datang!\")\n",
    "\n",
    "halo() # output: Halo, selamat datang!\n",
    "\n",
    "# Fungsi juga bisa dibuat tanpa argumen. Berikut adalah contoh pembuatan dan pemanggilan fungsi tanpa argumen"
   ]
  },
  {
   "cell_type": "code",
   "execution_count": 20,
   "id": "251d6f5c",
   "metadata": {},
   "outputs": [
    {
     "name": "stdout",
     "output_type": "stream",
     "text": [
      "Halo, siapa namamu?\n",
      "Halo, Indry!\n"
     ]
    }
   ],
   "source": [
    "# Latihann fungsi dalam python 3\n",
    "\n",
    "# Fungsi dengan argumen default \n",
    "\n",
    "def sapa(nama=\"\"):\n",
    "    if nama == \"\":\n",
    "        print(\"Halo, siapa namamu?\")\n",
    "    else:\n",
    "        print(\"Halo, \" + nama + \"!\")\n",
    "\n",
    "sapa() # output: Halo, siapa namamu?\n",
    "sapa(\"Indry\") # output: Halo, Andi!\n",
    "\n",
    "# Fungsi juga bisa memiliki argumen default. \n",
    "# Argumen default adalah nilai yang akan digunakan oleh fungsi jika argumen tersebut tidak diberikan saat pemanggilan fungsi.\n"
   ]
  },
  {
   "cell_type": "code",
   "execution_count": 21,
   "id": "f7373c6a",
   "metadata": {},
   "outputs": [
    {
     "name": "stdout",
     "output_type": "stream",
     "text": [
      "15\n"
     ]
    }
   ],
   "source": [
    "# Latihan fungsi dalam python 3\n",
    "\n",
    "# Fungsi dengan jumlah argumen yang tidak diketahui\n",
    "\n",
    "def jumlah(*angka):\n",
    "    total = 0\n",
    "    for a in angka:\n",
    "        total += a\n",
    "    return total\n",
    "\n",
    "hasil = jumlah(1, 2, 3, 4, 5)\n",
    "print(hasil) # output: 15\n",
    "\n",
    "# Fungsi juga bisa menerima jumlah argumen yang tidak diketahui. \n",
    "# Untuk melakukan hal ini, kita menggunakan tanda asterisk (*) diikuti dengan nama variabel"
   ]
  },
  {
   "cell_type": "code",
   "execution_count": 22,
   "id": "a3494708",
   "metadata": {},
   "outputs": [
    {
     "name": "stdout",
     "output_type": "stream",
     "text": [
      "[[1, 2, 3], [4, 5, 6], [7, 8, 9]]\n"
     ]
    }
   ],
   "source": [
    "# Latihan fungsi dalam python 4\n",
    "\n",
    "def urutkan_matriks(matriks):\n",
    "    #Fungsi ini menerima matriks berukuran n x n dan mengurutkan elemen-elemennya dari kecil ke besar#\n",
    "    ukuran = len(matriks)\n",
    "    for i in range(ukuran):\n",
    "        for j in range(ukuran):\n",
    "            for k in range(ukuran):\n",
    "                for l in range(ukuran):\n",
    "                    if matriks[i][j] < matriks[k][l]:\n",
    "                        matriks[i][j], matriks[k][l] = matriks[k][l], matriks[i][j]\n",
    "    return matriks\n",
    "\n",
    "matriks = [[4, 2, 3],\n",
    "           [1, 5, 6],\n",
    "           [7, 8, 9]]\n",
    "\n",
    "hasil = urutkan_matriks(matriks)\n",
    "print(hasil)\n",
    "\n",
    "# Fungsi ini menerima sebuah matriks berukuran n x n dan mengurutkan elemen-elemennya dari kecil ke besar. \n",
    "# Pengurutan dilakukan dengan membandingkan setiap pasangan elemen dalam matriks dan menukar posisi \n",
    "# elemen-elemen jika diperlukan."
   ]
  },
  {
   "cell_type": "code",
   "execution_count": 23,
   "id": "89cfd14e",
   "metadata": {},
   "outputs": [
    {
     "name": "stdout",
     "output_type": "stream",
     "text": [
      "[1 2 3]\n",
      "[4 5 6]\n",
      "[[1 2]\n",
      " [3 4]]\n"
     ]
    }
   ],
   "source": [
    "# Latihan Numpy 1\n",
    "\n",
    "# Perintah dasar dalam numpy\n",
    "\n",
    "import numpy as np\n",
    "# membuat array dengan list\n",
    "a = np.array([1, 2, 3])\n",
    "print(a) # output: [1 2 3]\n",
    "\n",
    "# membuat array dengan tuple\n",
    "b = np.array((4, 5, 6))\n",
    "print(b) # output: [4 5 6]\n",
    "\n",
    "# membuat array 2 dimensi\n",
    "c = np.array([[1, 2], [3, 4]])\n",
    "print(c) # output: [[1 2]\n",
    "         #         [3 4]]\n",
    "\n",
    "# Untuk membuat array numpy, kita bisa menggunakan fungsi array() dengan menyertakan list atau tuple sebagai argumen\n"
   ]
  },
  {
   "cell_type": "code",
   "execution_count": 24,
   "id": "d2ab50ee",
   "metadata": {},
   "outputs": [
    {
     "name": "stdout",
     "output_type": "stream",
     "text": [
      "[1 2 3]\n",
      "1\n",
      "2\n",
      "3\n",
      "[[1 2]\n",
      " [3 4]]\n",
      "1\n",
      "2\n",
      "3\n",
      "4\n",
      "[[1 2 3]\n",
      " [2 5 6]\n",
      " [3 8 9]]\n",
      "6\n",
      "2\n",
      "9\n",
      "[2 5 8]\n",
      "[3 6 9]\n",
      "[3 8 9]\n",
      "[[10  2]\n",
      " [ 3  4]]\n"
     ]
    }
   ],
   "source": [
    "# Latihan Numpy 2\n",
    "\n",
    "# Memanggil anggota, kolom, baris dengan numpy\n",
    "\n",
    "import numpy as np\n",
    "# membuat array 1 dimensi\n",
    "a = np.array([1, 2, 3])\n",
    "print (a)\n",
    "print(a[0]) # output: 1\n",
    "print(a[1]) # output: 2\n",
    "print(a[2]) # output: 3\n",
    "\n",
    "# membuat array 2 dimensi\n",
    "b = np.array([[1, 2], [3, 4]])\n",
    "print (b)\n",
    "print(b[0, 0]) # output: 1\n",
    "print(b[0, 1]) # output: 2\n",
    "print(b[1, 0]) # output: 3\n",
    "print(b[1, 1]) # output: 4\n",
    "\n",
    "# membuat array 3 dimensi\n",
    "c = np.array([[1,2,3],[2,5,6],[3,8,9]])\n",
    "print (c)\n",
    "print (c[1,2]) # output : 6\n",
    "print (c[0,1]) # output : 2\n",
    "print (c[2,2]) # output : 9\n",
    "print (c[:,1]) # output : [2,5,8]\n",
    "\n",
    "# Bisa menggunakan kode lain seperti ini\n",
    "kolom_ketiga = c[:,2]\n",
    "print (kolom_ketiga) # output : [3,6,9]\n",
    "\n",
    "baris_ketiga = c[2,:]\n",
    "print (baris_ketiga) # output : [3,8,9]\n",
    "\n",
    "# untuk replace salah satu saklar dari matriks\n",
    "b[0,0]=10\n",
    "print (b) # output: [[10 2]\n",
    "         #          [3 4]]\n"
   ]
  },
  {
   "cell_type": "code",
   "execution_count": 25,
   "id": "d8501dd2",
   "metadata": {},
   "outputs": [
    {
     "name": "stdout",
     "output_type": "stream",
     "text": [
      "[[1 2 3]\n",
      " [4 5 6]]\n",
      "[[0. 0. 0.]\n",
      " [0. 0. 0.]\n",
      " [0. 0. 0.]]\n",
      "[[1. 1. 1.]\n",
      " [1. 1. 1.]\n",
      " [1. 1. 1.]]\n",
      "[[1. 0. 0.]\n",
      " [0. 1. 0.]\n",
      " [0. 0. 1.]]\n",
      "[[0.49690204 0.1929953  0.48758686]\n",
      " [0.16774474 0.68859208 0.12870287]\n",
      " [0.79979555 0.0664864  0.83710271]]\n",
      "[[3 7 7]\n",
      " [6 7 4]\n",
      " [4 6 8]]\n",
      "[[2 6 7 6 6 6 4 3 8 6]\n",
      " [7 6 8 7 6 3 5 2 7 7]\n",
      " [3 3 5 5 6 8 7 3 4 4]\n",
      " [4 4 6 7 5 5 5 6 8 2]\n",
      " [5 8 2 6 2 2 8 4 5 2]\n",
      " [3 5 2 8 7 8 4 8 7 7]\n",
      " [3 7 4 6 6 3 2 6 7 2]\n",
      " [7 5 5 5 7 8 4 5 4 6]\n",
      " [2 4 4 4 6 7 7 4 6 6]\n",
      " [2 3 4 2 6 4 8 2 3 6]]\n"
     ]
    }
   ],
   "source": [
    "# Latihan numpy 3\n",
    "\n",
    "# Membuat matriks dalam numpy\n",
    "\n",
    "import numpy as np\n",
    "# membuat matriks 2x3\n",
    "a = np.array([[1, 2, 3], [4, 5, 6]])\n",
    "print(a)\n",
    "\n",
    "# membuat matriks 3x3 dengan elemen 0\n",
    "b = np.zeros((3, 3))\n",
    "print(b)\n",
    "\n",
    "# membuat matriks 3x3 dengan elemen 1\n",
    "c = np.ones((3, 3))\n",
    "print(c)\n",
    "\n",
    "# membuat matriks identitas 3x3\n",
    "d = np.eye(3)\n",
    "print(d)\n",
    "\n",
    "# membuat matriks acak 3x3 dengan nilai antara 0 dan 1\n",
    "e = np.random.rand(3, 3)\n",
    "print(e)\n",
    "\n",
    "# membuat matriks acak 3x3 dengan nilai antara 3 dan 9\n",
    "f = np.random.randint(3, 9, (3, 3))\n",
    "print(f)\n",
    "\n",
    "# membuat matrik ukuran 10x10 \n",
    "g = np. random.randint(2,9,(10,10))\n",
    "print (g)\n"
   ]
  },
  {
   "cell_type": "code",
   "execution_count": 26,
   "id": "3be02d73",
   "metadata": {},
   "outputs": [
    {
     "name": "stdout",
     "output_type": "stream",
     "text": [
      "[[ 1  2  4]\n",
      " [ 3  4  7]\n",
      " [ 5  8 13]]\n",
      " \n",
      "[[ 1  2  4]\n",
      " [ 3  4  7]\n",
      " [ 5  8 13]]\n",
      " \n",
      "[[ 1  2 15]\n",
      " [ 3  4  7]\n",
      " [ 5  8 13]]\n"
     ]
    }
   ],
   "source": [
    "# Latihan numpy 4\n",
    "\n",
    "# Copy pada numpy\n",
    "\n",
    "# membuat array 3 dimensi\n",
    "c = np.array([[1, 2, 4], [3, 4, 7],[5, 8, 13]])\n",
    "print(c) \n",
    "\n",
    "print (\" \")\n",
    "b=c\n",
    "# akan mengeluarkan ouput yang sama dengan c, tetapi sudah dideklarasikan menjadi array b\n",
    "print (b)\n",
    "\n",
    "print (\" \")\n",
    "b[0,2]= 15\n",
    "print (b)\n",
    "# sehingga, saat melakukan suatu fungsi kepada array b, array a tidak akan terpengaruh"
   ]
  },
  {
   "cell_type": "code",
   "execution_count": 27,
   "id": "08eb1229",
   "metadata": {},
   "outputs": [
    {
     "name": "stdout",
     "output_type": "stream",
     "text": [
      "3\n",
      "4\n",
      "[2 4 6]\n",
      "[5 7 9]\n",
      "[ 4 10 18]\n"
     ]
    }
   ],
   "source": [
    "# Latihan numpy 5\n",
    "\n",
    "# Operasi Matematika dalam Array\n",
    "\n",
    "import numpy as np\n",
    "\n",
    "# menghitung jumlah elemen pada array\n",
    "a = np.array([1, 2, 3])\n",
    "print(np.size(a)) # output: 3\n",
    "\n",
    "# menghitung jumlah elemen pada array 2 dimensi\n",
    "b = np.array([[1, 2], [3, 4]])\n",
    "print(np.size(b)) # output: 4\n",
    "\n",
    "# mengalikan array dengan skalar\n",
    "c = np.array([1, 2, 3])\n",
    "d = c * 2\n",
    "print(d) # output: [2 4 6]\n",
    "\n",
    "# menjumlahkan dua array\n",
    "e = np.array([1, 2, 3])\n",
    "f = np.array([4, 5, 6])\n",
    "g = e + f\n",
    "print(g) # output: [5 7 9]\n",
    "\n",
    "# mengalikan dua array\n",
    "h = np.array([1, 2, 3])\n",
    "i = np.array([4, 5, 6])\n",
    "j = h * i\n",
    "print(j) # output: [ 4 10 18]\n"
   ]
  },
  {
   "cell_type": "code",
   "execution_count": 28,
   "id": "82228479",
   "metadata": {},
   "outputs": [
    {
     "name": "stdout",
     "output_type": "stream",
     "text": [
      "[[ 58  64  79]\n",
      " [139 154 184]]\n",
      "[[ 58  64  79]\n",
      " [139 154 184]]\n",
      "[[  7  16  18]\n",
      " [ 36  50  84]\n",
      " [ 77  96 135]]\n"
     ]
    }
   ],
   "source": [
    "# Latihan numpy 6\n",
    "\n",
    "# Perkalian matrik pada numpy\n",
    "\n",
    "import numpy as np\n",
    "\n",
    "# contoh matriks A\n",
    "A = np.array([[1, 2, 3], [4, 5, 6]])\n",
    "\n",
    "# contoh matriks B\n",
    "B = np.array([[7, 8, 6], [9, 10, 14], [11, 12, 15]])\n",
    "\n",
    "# perkalian matriks menggunakan dot()\n",
    "C = np.dot(A, B)\n",
    "print(C)\n",
    "\n",
    "# perkalian matriks menggunakan operator @\n",
    "D = A @ B\n",
    "print(D)\n",
    "\n",
    "# perkalian elemen-wise menggunakan operator *\n",
    "E = np.array([[1, 2, 3], [4, 5, 6],[7, 8, 9]])\n",
    "F = np.array([[7, 8, 6], [9, 10, 14], [11, 12, 15]])\n",
    "G = E * F\n",
    "print(G)\n",
    "\n",
    "# Untuk melakukan perkalian matriks pada NumPy, kita dapat menggunakan fungsi dot() atau operator @.\n",
    "# Namun, untuk melakukan perkalian elemen-wise (perkalian satu-satu), kita dapat menggunakan operator *.\n",
    "\n",
    "# Pada contoh di atas, kita membuat dua matriks A dan B, lalu melakukan perkalian matriks dengan \n",
    "# menggunakan fungsi dot() atau operator @. Hasilnya disimpan pada matriks C dan D. \n",
    "# Selain itu, kita juga melakukan perkalian elemen-wise menggunakan operator *, dan hasilnya disimpan pada matriks E."
   ]
  },
  {
   "cell_type": "code",
   "execution_count": 29,
   "id": "d54aa71a",
   "metadata": {},
   "outputs": [
    {
     "name": "stdout",
     "output_type": "stream",
     "text": [
      "Nilai minimum: 1\n",
      "Nilai maksimum: 9\n",
      "Jumlah elemen: 45\n",
      "Nilai minimum untuk setiap kolom: [1 2 3]\n",
      "Nilai maksimum untuk setiap baris: [3 6 9]\n",
      "Jumlah untuk setiap kolom: [12 15 18]\n",
      "Jumlah untuk setiap baris :  [ 6 15 24]\n"
     ]
    }
   ],
   "source": [
    "# Latihan numpy 7\n",
    "\n",
    "# min, max, dan sum pada numpy\n",
    "# NumPy memiliki fungsi built-in yang memungkinkan kita untuk melakukan operasi min, max, dan sum pada array. \n",
    "# Fungsi-fungsi tersebut adalah:\n",
    "\n",
    "# np.min(arr): mengembalikan nilai minimum dari seluruh elemen array arr.\n",
    "# np.max(arr): mengembalikan nilai maksimum dari seluruh elemen array arr.\n",
    "# np.sum(arr): mengembalikan jumlah dari seluruh elemen array arr.\n",
    "# Kita juga dapat menentukan sum atau minimum/maximum untuk suatu sumbu tertentu dengan menambahkan parameter axis. Contohnya:\n",
    "\n",
    "# np.min(arr, axis=0): mengembalikan nilai minimum untuk setiap kolom array arr.\n",
    "# np.max(arr, axis=1): mengembalikan nilai maksimum untuk setiap baris array arr.\n",
    "# np.sum(arr, axis=0): mengembalikan jumlah untuk setiap kolom array arr.\n",
    "# np.sum(arr, axis=1): mengembalikan jumlah untuk setiap baris array arr.\n",
    "\n",
    "import numpy as np\n",
    "# contoh array\n",
    "arr = np.array([[1, 2, 3], [4, 5, 6], [7, 8, 9]])\n",
    "\n",
    "# nilai minimum\n",
    "min_val = np.min(arr)\n",
    "print(\"Nilai minimum:\", min_val)\n",
    "\n",
    "# nilai maksimum\n",
    "max_val = np.max(arr)\n",
    "print(\"Nilai maksimum:\", max_val)\n",
    "\n",
    "# jumlah elemen\n",
    "sum_val = np.sum(arr)\n",
    "print(\"Jumlah elemen:\", sum_val)\n",
    "\n",
    "# nilai minimum untuk setiap kolom\n",
    "min_col = np.min(arr, axis=0)\n",
    "print(\"Nilai minimum untuk setiap kolom:\", min_col)\n",
    "\n",
    "# nilai maksimum untuk setiap baris\n",
    "max_row = np.max(arr, axis=1)\n",
    "print(\"Nilai maksimum untuk setiap baris:\", max_row)\n",
    "\n",
    "# jumlah untuk setiap kolom\n",
    "sum_col = np.sum(arr, axis=0)\n",
    "print(\"Jumlah untuk setiap kolom:\", sum_col)\n",
    "\n",
    "# jumlah untuk setiap baris\n",
    "sum_row = np.sum(arr,axis=1)\n",
    "print (\"Jumlah untuk setiap baris : \", sum_row)\n",
    "\n",
    "# Pada contoh di atas, kita membuat array arr dengan dimensi 3x3, \n",
    "# lalu melakukan operasi min, max, dan sum menggunakan fungsi np.min(), np.max(), dan np.sum(). \n",
    "# Selain itu, kita juga melakukan operasi min dan max untuk setiap kolom dan baris menggunakan parameter axis\n"
   ]
  }
 ],
 "metadata": {
  "kernelspec": {
   "display_name": "Python 3 (ipykernel)",
   "language": "python",
   "name": "python3"
  },
  "language_info": {
   "codemirror_mode": {
    "name": "ipython",
    "version": 3
   },
   "file_extension": ".py",
   "mimetype": "text/x-python",
   "name": "python",
   "nbconvert_exporter": "python",
   "pygments_lexer": "ipython3",
   "version": "3.9.13"
  }
 },
 "nbformat": 4,
 "nbformat_minor": 5
}
